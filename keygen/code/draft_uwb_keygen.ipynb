{
 "cells": [
  {
   "cell_type": "code",
   "execution_count": null,
   "metadata": {},
   "outputs": [],
   "source": [
    "import numpy as np\n",
    "import matplotlib.pyplot as plt\n",
    "import csv"
   ]
  },
  {
   "cell_type": "code",
   "execution_count": 8,
   "metadata": {},
   "outputs": [],
   "source": [
    "def normalize(matrix):\n",
    "    norm = (matrix-np.min(matrix))/(np.max(matrix)-np.min(matrix))\n",
    "    return norm\n",
    "\n",
    "def load_data_single(path, start_index, end_index): # path to folder with tx1/rx1.csv\n",
    "    x = []\n",
    "    y = []\n",
    "    for m in range(1, 4): # measurements\n",
    "        print(\"Reading measurement\", m)\n",
    "        rows = 0\n",
    "        data_in_x = []\n",
    "        data_in_y = []\n",
    "        with open(path+\"/tx\"+str(m)+\".csv\", newline='') as csvfile:\n",
    "            spamreader = csv.reader(csvfile, delimiter=';', quotechar='|')\n",
    "            for idxx, row in enumerate(spamreader):\n",
    "                try:\n",
    "                    tmp = np.array(row)[10:].astype(complex)\n",
    "                    data_in_x.append(row)\n",
    "                    rows += 1\n",
    "                except Exception as e:\n",
    "                    print(\"\\t\\tFormat error in line\", idxx)\n",
    "                    continue\n",
    "            print(\"\\tAppended\", rows, \"rows\")\n",
    "        rows=0\n",
    "        with open(path+\"/rx\"+str(m)+\".csv\", newline='') as csvfile:\n",
    "            spamreader = csv.reader(csvfile, delimiter=';', quotechar='|')\n",
    "            for idxx, row in enumerate(spamreader):\n",
    "                try:\n",
    "                    tmp = np.array(row)[10:].astype(complex)\n",
    "                    data_in_y.append(row)\n",
    "                    rows += 1\n",
    "                except Exception as e:\n",
    "                    print(\"\\t\\tFormat error in line\", idxx)\n",
    "                    continue\n",
    "            print(\"\\tAppended\", rows, \"rows\")\n",
    "            x.append(data_in_x)\n",
    "            y.append(data_in_y)\n",
    "    print(\"Total samples:\", len(x[0])+len(x[1])+len(x[2]))\n",
    "    print(\"Total samples:\", len(y[0])+len(y[1])+len(y[2]))\n",
    "    for i in range(3):\n",
    "        # x[i] = normalize(np.abs(np.array(x[i])[:, 10+start_index:10+end_index].astype(complex)))\n",
    "        # y[i] = normalize(np.abs(np.array(y[i])[:, 10+start_index:10+end_index].astype(complex)))\n",
    "        x[i] = normalize(np.angle(np.array(x[i])[:, 10+start_index:10+end_index].astype(complex)))\n",
    "        y[i] = normalize(np.angle(np.array(y[i])[:, 10+start_index:10+end_index].astype(complex)))\n",
    "\n",
    "\n",
    "        print(x[i].shape)\n",
    "        print(y[i].shape)\n",
    "\n",
    "    return x, y"
   ]
  },
  {
   "cell_type": "code",
   "execution_count": 9,
   "metadata": {},
   "outputs": [
    {
     "name": "stdout",
     "output_type": "stream",
     "text": [
      "Reading measurement 1\n",
      "\tAppended 3217 rows\n",
      "\tAppended 3217 rows\n",
      "Reading measurement 2\n",
      "\tAppended 3053 rows\n",
      "\tAppended 3044 rows\n",
      "Reading measurement 3\n",
      "\tAppended 4515 rows\n",
      "\tAppended 4515 rows\n",
      "Total samples: 10785\n",
      "Total samples: 10776\n",
      "(3217, 500)\n",
      "(3217, 500)\n",
      "(3053, 500)\n",
      "(3044, 500)\n",
      "(4515, 500)\n",
      "(4515, 500)\n"
     ]
    }
   ],
   "source": [
    "start_index = 0\n",
    "end_index = 500\n",
    "x, y = load_data_single('../data', start_index=start_index, end_index=end_index)"
   ]
  },
  {
   "cell_type": "code",
   "execution_count": null,
   "metadata": {},
   "outputs": [],
   "source": [
    "fig, axs = plt.subplots(1, 2, figsize=(14, 6))\n",
    "for i in range(2):\n",
    "    s = np.random.randint(0, x[0].shape[0])\n",
    "    axs[i].plot(x[0][s, :])\n",
    "    axs[i].plot(y[0][s, :])\n",
    "plt.show()"
   ]
  },
  {
   "cell_type": "code",
   "execution_count": 7,
   "metadata": {},
   "outputs": [],
   "source": []
  }
 ],
 "metadata": {
  "kernelspec": {
   "display_name": "env-nixml",
   "language": "python",
   "name": "python3"
  },
  "language_info": {
   "codemirror_mode": {
    "name": "ipython",
    "version": 3
   },
   "file_extension": ".py",
   "mimetype": "text/x-python",
   "name": "python",
   "nbconvert_exporter": "python",
   "pygments_lexer": "ipython3",
   "version": "3.10.13"
  }
 },
 "nbformat": 4,
 "nbformat_minor": 2
}
